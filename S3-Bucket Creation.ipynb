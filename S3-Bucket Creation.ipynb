{
 "cells": [
  {
   "cell_type": "markdown",
   "id": "7e7be8cd",
   "metadata": {},
   "source": [
    "# Importing Important Libraries\n",
    "\n",
    "Steps:-\n",
    "1. Importing necessary Libraries\n",
    "2. Creating S3 bucket\n",
    "3. Mapping train And Test Data in S3\n",
    "4. Mapping The path of the models in S3"
   ]
  },
  {
   "cell_type": "code",
   "execution_count": 1,
   "id": "3ecc6aeb",
   "metadata": {},
   "outputs": [],
   "source": [
    "import boto3\n",
    "import sagemaker\n",
    "from sagemaker.session import s3_input, Session\n",
    "from sagemaker.amazon.amazon_estimator import get_image_uri "
   ]
  },
  {
   "cell_type": "code",
   "execution_count": 4,
   "id": "50a4a387",
   "metadata": {},
   "outputs": [
    {
     "name": "stdout",
     "output_type": "stream",
     "text": [
      "us-east-1\n"
     ]
    }
   ],
   "source": [
    "bucket_name = 'bank-app-bucket'\n",
    "region = boto3.session.Session().region_name # get the region name\n",
    "print(region)"
   ]
  },
  {
   "cell_type": "code",
   "execution_count": 5,
   "id": "82e08cae",
   "metadata": {},
   "outputs": [
    {
     "name": "stdout",
     "output_type": "stream",
     "text": [
      "S3 bucket created successfully\n"
     ]
    }
   ],
   "source": [
    "s3 = boto3.resource('s3')\n",
    "try:\n",
    "    if  region == 'us-east-1':\n",
    "        s3.create_bucket(Bucket=bucket_name)\n",
    "    print('S3 bucket created successfully')\n",
    "except Exception as e:\n",
    "    print('S3 error: ',e)"
   ]
  },
  {
   "cell_type": "code",
   "execution_count": 6,
   "id": "27b5d4f0",
   "metadata": {},
   "outputs": [
    {
     "name": "stdout",
     "output_type": "stream",
     "text": [
      "s3://bank-app-bucket/xgboost-inbuilt-algo/output\n"
     ]
    }
   ],
   "source": [
    "# set an output path where the trained model will be saved\n",
    "prefix = 'xgboost-inbuilt-algo'\n",
    "output_path =f's3://{bucket_name}/{prefix}/output'\n",
    "print(output_path)"
   ]
  },
  {
   "cell_type": "code",
   "execution_count": null,
   "id": "8d2b445e",
   "metadata": {},
   "outputs": [],
   "source": []
  }
 ],
 "metadata": {
  "kernelspec": {
   "display_name": "conda_python3",
   "language": "python",
   "name": "conda_python3"
  },
  "language_info": {
   "codemirror_mode": {
    "name": "ipython",
    "version": 3
   },
   "file_extension": ".py",
   "mimetype": "text/x-python",
   "name": "python",
   "nbconvert_exporter": "python",
   "pygments_lexer": "ipython3",
   "version": "3.10.8"
  }
 },
 "nbformat": 4,
 "nbformat_minor": 5
}
